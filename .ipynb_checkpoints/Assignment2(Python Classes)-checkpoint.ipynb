{
 "cells": [
  {
   "cell_type": "code",
   "execution_count": null,
   "id": "97a0bde8",
   "metadata": {},
   "outputs": [],
   "source": [
    "\"### Question 1\\n\",\n",
    "    \"* Make a class called User. Create two attributes called **first_name** and **last_name**, and then create several other attributes that are typically storedin a user profile. \\n\",\n",
    "    \"* Make a method called **describe_user()** that prints a summary of the user’s information. \\n\",\n",
    "    \"* Make another method called **greet_user()** that prints a personalized greeting to the user.\\n\",\n",
    "    \"* Create several instances representing different users, and call both methods for each user.\"\n",
    "   ]\n",
    "  },"
   ]
  },
  {
   "cell_type": "code",
   "execution_count": 19,
   "id": "3ce6a808",
   "metadata": {},
   "outputs": [],
   "source": [
    " class User:\n",
    "        def __init__(self,first_name,last_name,gender,age,status):\n",
    "            self.first_name=first_name\n",
    "            self.last_name=last_name\n",
    "            self.gender=gender\n",
    "            self.age=age\n",
    "            self.status=status\n",
    "       #making methods     \n",
    "        def describe_user(self):\n",
    "                print(f\"{self.first_name}, {self.last_name} is a,{self.gender},of {self.age} years of age,who is {self.status}\")\n",
    "        def greet_user(self):\n",
    "                print(f\"Hello {self.first_name}, {self.last_name}\")\n",
    "            \n",
    "            "
   ]
  },
  {
   "cell_type": "code",
   "execution_count": 20,
   "id": "d00c5f7b",
   "metadata": {},
   "outputs": [
    {
     "name": "stdout",
     "output_type": "stream",
     "text": [
      "Theo Moore Male 24 Working\n"
     ]
    }
   ],
   "source": [
    "#creating an instance\n",
    "theo=User(\"Theo\",\"Moore\",\"Male\",\"24\",\"Working\")\n",
    "print(theo.first_name,theo.last_name,theo.gender,theo.age,theo.status)\n",
    "\n"
   ]
  },
  {
   "cell_type": "code",
   "execution_count": 21,
   "id": "d2801d2d",
   "metadata": {},
   "outputs": [
    {
     "name": "stdout",
     "output_type": "stream",
     "text": [
      "Theo, Moore is a,Male,of 24 years of age,who is Working\n",
      "Hello Theo, Moore\n"
     ]
    }
   ],
   "source": [
    "#calling methods\n",
    "theo.describe_user()\n",
    "theo.greet_user()"
   ]
  },
  {
   "cell_type": "code",
   "execution_count": 22,
   "id": "31ede08b",
   "metadata": {},
   "outputs": [
    {
     "name": "stdout",
     "output_type": "stream",
     "text": [
      "Zoe Johnson Female 12 Student\n",
      "Zoe, Johnson is a,Female,of 12 years of age,who is Student\n",
      "Hello Zoe, Johnson\n"
     ]
    }
   ],
   "source": [
    "Zoe=User(\"Zoe\",\"Johnson\",\"Female\",\"12\",\"Student\")\n",
    "print(Zoe.first_name,Zoe.last_name,Zoe.gender,Zoe.age,Zoe.status)\n",
    "Zoe.describe_user()\n",
    "Zoe.greet_user()"
   ]
  },
  {
   "cell_type": "code",
   "execution_count": 23,
   "id": "35bf7c2d",
   "metadata": {},
   "outputs": [
    {
     "name": "stdout",
     "output_type": "stream",
     "text": [
      "John Drew Male 32 Not Working\n",
      "John, Drew is a,Male,of 32 years of age,who is Not Working\n",
      "Hello John, Drew\n"
     ]
    }
   ],
   "source": [
    "John=User(\"John\",\"Drew\",\"Male\",\"32\",\"Not Working\")\n",
    "print(John.first_name,John.last_name,John.gender,John.age,John.status)\n",
    "John.describe_user()\n",
    "John.greet_user()"
   ]
  },
  {
   "cell_type": "code",
   "execution_count": null,
   "id": "ec66922c",
   "metadata": {},
   "outputs": [],
   "source": []
  },
  {
   "cell_type": "code",
   "execution_count": null,
   "id": "edde4941",
   "metadata": {},
   "outputs": [],
   "source": [
    "### Question 2\"\n",
    "\n",
    "class Animal:\\n\",\n",
    "    \"    def __init__(self):\\n\",\n",
    "    \"        self.eyes = 2\\n\",\n",
    "    \"        self.legs = 2\\n\",\n",
    "    \"\\n\",\n",
    "    \"    def walk(self):\\n\",\n",
    "    \"        if self.legs:\\n\",\n",
    "    \"            print(f'Walking on my own {self.legs} legs.')\\n\",\n",
    "    \"        else:\\n\",\n",
    "    \"            print(\\\"Can't walk. Maybe swim!\\\")\""
   ]
  },
  {
   "cell_type": "code",
   "execution_count": null,
   "id": "d4b7cf78",
   "metadata": {},
   "outputs": [],
   "source": [
    " Create a new class called **Fish** that inherits from the **Animal** class above.\\n\",\n",
    "    \"* **NB**: A fish has zero legs."
   ]
  }
 ],
 "metadata": {
  "kernelspec": {
   "display_name": "Python 3",
   "language": "python",
   "name": "python3"
  },
  "language_info": {
   "codemirror_mode": {
    "name": "ipython",
    "version": 3
   },
   "file_extension": ".py",
   "mimetype": "text/x-python",
   "name": "python",
   "nbconvert_exporter": "python",
   "pygments_lexer": "ipython3",
   "version": "3.8.8"
  }
 },
 "nbformat": 4,
 "nbformat_minor": 5
}
