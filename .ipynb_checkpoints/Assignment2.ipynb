{
 "cells": [
  {
   "cell_type": "code",
   "execution_count": null,
   "id": "34e55cfa",
   "metadata": {},
   "outputs": [],
   "source": [
    "### Question 1,\n",
    "    * Make a class called User. Create two attributes called **first_name** and **last_name**, and then create several other attributes that are typically stored in a user profile.,\n",
    "    * Make a method called **describe_user()** that prints a summary of the user’s information. ,\n",
    "    * Make another method called **greet_user()** that prints a personalized greeting to the user.,\n",
    "    * Create several instances representing different users, and call both methods for each user.\n",
    "   "
   ]
  },
  {
   "cell_type": "code",
   "execution_count": 19,
   "id": "2298b435",
   "metadata": {},
   "outputs": [],
   "source": [
    " class User:\n",
    "        def __init__(self,first_name,last_name,gender,age,status):\n",
    "            self.first_name=first_name\n",
    "            self.last_name=last_name\n",
    "            self.gender=gender\n",
    "            self.age=age\n",
    "            self.status=status\n",
    "       #making methods     \n",
    "        def describe_user(self):\n",
    "                print(f\"{self.first_name}, {self.last_name} is a,{self.gender},of {self.age} years of age,who is {self.status}\")\n",
    "        def greet_user(self):\n",
    "                print(f\"Hello {self.first_name}, {self.last_name}\")\n",
    "            \n",
    "            "
   ]
  },
  {
   "cell_type": "code",
   "execution_count": 20,
   "id": "306fc12b",
   "metadata": {},
   "outputs": [
    {
     "name": "stdout",
     "output_type": "stream",
     "text": [
      "Theo Moore Male 24 Working\n"
     ]
    }
   ],
   "source": [
    "#creating an instance\n",
    "theo=User(\"Theo\",\"Moore\",\"Male\",\"24\",\"Working\")\n",
    "print(theo.first_name,theo.last_name,theo.gender,theo.age,theo.status)\n",
    "\n"
   ]
  },
  {
   "cell_type": "code",
   "execution_count": 21,
   "id": "ed1c0cfa",
   "metadata": {},
   "outputs": [
    {
     "name": "stdout",
     "output_type": "stream",
     "text": [
      "Theo, Moore is a,Male,of 24 years of age,who is Working\n",
      "Hello Theo, Moore\n"
     ]
    }
   ],
   "source": [
    "#calling methods\n",
    "theo.describe_user()\n",
    "theo.greet_user()"
   ]
  },
  {
   "cell_type": "code",
   "execution_count": 22,
   "id": "17b77f08",
   "metadata": {},
   "outputs": [
    {
     "name": "stdout",
     "output_type": "stream",
     "text": [
      "Zoe Johnson Female 12 Student\n",
      "Zoe, Johnson is a,Female,of 12 years of age,who is Student\n",
      "Hello Zoe, Johnson\n"
     ]
    }
   ],
   "source": [
    "Zoe=User(\"Zoe\",\"Johnson\",\"Female\",\"12\",\"Student\")\n",
    "print(Zoe.first_name,Zoe.last_name,Zoe.gender,Zoe.age,Zoe.status)\n",
    "Zoe.describe_user()\n",
    "Zoe.greet_user()"
   ]
  },
  {
   "cell_type": "code",
   "execution_count": 23,
   "id": "cf29345e",
   "metadata": {},
   "outputs": [
    {
     "name": "stdout",
     "output_type": "stream",
     "text": [
      "John Drew Male 32 Not Working\n",
      "John, Drew is a,Male,of 32 years of age,who is Not Working\n",
      "Hello John, Drew\n"
     ]
    }
   ],
   "source": [
    "John=User(\"John\",\"Drew\",\"Male\",\"32\",\"Not Working\")\n",
    "print(John.first_name,John.last_name,John.gender,John.age,John.status)\n",
    "John.describe_user()\n",
    "John.greet_user()"
   ]
  },
  {
   "cell_type": "code",
   "execution_count": null,
   "id": "2c88aa1e",
   "metadata": {},
   "outputs": [],
   "source": []
  },
  {
   "cell_type": "code",
   "execution_count": 12,
   "id": "8c279575",
   "metadata": {},
   "outputs": [],
   "source": [
    "### Question 2\n",
    "\n",
    "class Animal:\n",
    "    def __init__(self,eyes,legs):\n",
    "       self.eyes = 2\n",
    "       self.legs = 2\n",
    "    \n",
    "    def walk(self):\n",
    "        if self.legs:\n",
    "            print(f'Walking on my own {self.legs} legs.')\n",
    "        else:\n",
    "            print(\"Can't walk. Maybe swim!\")"
   ]
  },
  {
   "cell_type": "code",
   "execution_count": 13,
   "id": "d30dd6db",
   "metadata": {},
   "outputs": [
    {
     "name": "stdout",
     "output_type": "stream",
     "text": [
      "0\n"
     ]
    }
   ],
   "source": [
    "class Fish(Animal):\n",
    "     def __init__(self,eyes, legs):\n",
    "            \n",
    "            super().__init__(eyes,legs)\n",
    "            self.legs=0\n",
    "fish=Fish(2,0)\n",
    "print(fish.legs)\n",
    "    "
   ]
  },
  {
   "cell_type": "code",
   "execution_count": 7,
   "id": "34e4250f",
   "metadata": {},
   "outputs": [
    {
     "name": "stdout",
     "output_type": "stream",
     "text": [
      "Can't walk. Maybe swim!\n"
     ]
    }
   ],
   "source": [
    "fish.walk()"
   ]
  },
  {
   "cell_type": "code",
   "execution_count": null,
   "id": "9c18c0a9",
   "metadata": {},
   "outputs": [],
   "source": [
    " "
   ]
  }
 ],
 "metadata": {
  "kernelspec": {
   "display_name": "Python 3",
   "language": "python",
   "name": "python3"
  },
  "language_info": {
   "codemirror_mode": {
    "name": "ipython",
    "version": 3
   },
   "file_extension": ".py",
   "mimetype": "text/x-python",
   "name": "python",
   "nbconvert_exporter": "python",
   "pygments_lexer": "ipython3",
   "version": "3.8.8"
  }
 },
 "nbformat": 4,
 "nbformat_minor": 5
}
